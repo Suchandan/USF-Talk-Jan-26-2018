{
 "cells": [
  {
   "cell_type": "markdown",
   "metadata": {},
   "source": [
    "# Imports"
   ]
  },
  {
   "cell_type": "code",
   "execution_count": 1,
   "metadata": {
    "collapsed": true
   },
   "outputs": [],
   "source": [
    "import sys\n",
    "import io\n",
    "\n",
    "import itertools\n",
    "import numpy as np\n",
    "import matplotlib.pyplot as plt\n",
    "\n",
    "import pandas as pd\n",
    "import numpy as np\n",
    "\n",
    "import xgboost as xgb\n",
    "from sklearn.metrics import confusion_matrix, accuracy_score\n",
    "\n",
    "from sklearn.model_selection import StratifiedShuffleSplit\n",
    "\n",
    "import input_data"
   ]
  },
  {
   "cell_type": "markdown",
   "metadata": {},
   "source": [
    "# Helper functions"
   ]
  },
  {
   "cell_type": "code",
   "execution_count": 2,
   "metadata": {
    "collapsed": true
   },
   "outputs": [],
   "source": [
    "def stats(y_true, y_pred):\n",
    "    \n",
    "    accuracy = accuracy_score(y_true=y_true, y_pred=y_pred)\n",
    "    \n",
    "    print (\"Accuracy: {}\".format(accuracy))\n",
    "\n",
    "def plot_confusion_matrix(cm, classes,\n",
    "                          normalize=False,\n",
    "                          title='Confusion matrix',\n",
    "                          cmap=plt.cm.Blues):\n",
    "    \"\"\"\n",
    "    This function prints and plots the confusion matrix.\n",
    "    Normalization can be applied by setting `normalize=True`.\n",
    "    \n",
    "    See: http://scikit-learn.org/stable/auto_examples/model_selection/plot_confusion_matrix.html\n",
    "    \"\"\"\n",
    "    \n",
    "    plt.figure(figsize=(20,10))\n",
    "    \n",
    "    if normalize:\n",
    "        cm = cm.astype('float') / cm.sum(axis=1)[:, np.newaxis]\n",
    "        print(\"Normalized confusion matrix\")\n",
    "    else:\n",
    "        print('Confusion matrix, without normalization')\n",
    "\n",
    "    print(cm)\n",
    "\n",
    "    plt.imshow(cm, interpolation='nearest', cmap=cmap)\n",
    "    plt.title(title)\n",
    "    plt.colorbar()\n",
    "    tick_marks = np.arange(len(classes))\n",
    "    plt.xticks(tick_marks, classes, rotation=45)\n",
    "    plt.yticks(tick_marks, classes)\n",
    "\n",
    "    fmt = '.2f' if normalize else 'd'\n",
    "    thresh = cm.max() / 2.\n",
    "    for i, j in itertools.product(range(cm.shape[0]), range(cm.shape[1])):\n",
    "        plt.text(j, i, format(cm[i, j], fmt),\n",
    "                 horizontalalignment=\"center\",\n",
    "                 color=\"white\" if cm[i, j] > thresh else \"black\")\n",
    "\n",
    "    plt.tight_layout()\n",
    "    plt.ylabel('True label')\n",
    "    plt.xlabel('Predicted label')\n",
    "    \n",
    "    plt.show()"
   ]
  },
  {
   "cell_type": "markdown",
   "metadata": {},
   "source": [
    "# Read Data"
   ]
  },
  {
   "cell_type": "code",
   "execution_count": 3,
   "metadata": {
    "collapsed": true
   },
   "outputs": [],
   "source": [
    "features = input_data.numeric_features\n",
    "label = input_data.label_column_name"
   ]
  },
  {
   "cell_type": "code",
   "execution_count": 4,
   "metadata": {
    "collapsed": true
   },
   "outputs": [],
   "source": [
    "train = pd.read_csv(\"./data/train.csv.gz\", nrows=None)\n",
    "test = pd.read_csv(\"./data/test.csv.gz\", nrows=None)\n",
    "validation = pd.read_csv(\"./data/validation.csv.gz\", nrows=None)"
   ]
  },
  {
   "cell_type": "code",
   "execution_count": 5,
   "metadata": {
    "collapsed": true
   },
   "outputs": [],
   "source": [
    "X_train = train[features]\n",
    "y_train = train[label]\n",
    "\n",
    "X_test = test[features]\n",
    "y_test = test[label]\n",
    "\n",
    "X_validation = validation[features]\n",
    "y_validation = validation[label]"
   ]
  },
  {
   "cell_type": "markdown",
   "metadata": {},
   "source": [
    "# Random Forest Classifier"
   ]
  },
  {
   "cell_type": "code",
   "execution_count": 8,
   "metadata": {
    "collapsed": true
   },
   "outputs": [],
   "source": [
    "dtrain = xgb.DMatrix(data=X_train, label=y_train)\n",
    "dvalidation = xgb.DMatrix(data=X_validation, label=y_validation)\n",
    "dtest = xgb.DMatrix(data=X_test, label=y_test)"
   ]
  },
  {
   "cell_type": "code",
   "execution_count": 9,
   "metadata": {
    "collapsed": true
   },
   "outputs": [],
   "source": [
    "param = {'eta':0.01, 'silent':False, 'objective':'binary:logistic'}\n",
    "num_round = 20"
   ]
  },
  {
   "cell_type": "code",
   "execution_count": 10,
   "metadata": {},
   "outputs": [
    {
     "name": "stdout",
     "output_type": "stream",
     "text": [
      "[0]\ttrain-error:0.002302\tvalidation-error:0.002282\n",
      "[1]\ttrain-error:0.002302\tvalidation-error:0.002283\n",
      "[2]\ttrain-error:0.002302\tvalidation-error:0.002283\n",
      "[3]\ttrain-error:0.002302\tvalidation-error:0.002283\n",
      "[4]\ttrain-error:0.002302\tvalidation-error:0.002283\n",
      "[5]\ttrain-error:0.002302\tvalidation-error:0.002283\n",
      "[6]\ttrain-error:0.002302\tvalidation-error:0.002283\n",
      "[7]\ttrain-error:0.002302\tvalidation-error:0.002283\n",
      "[8]\ttrain-error:0.002302\tvalidation-error:0.002283\n",
      "[9]\ttrain-error:0.002302\tvalidation-error:0.002283\n",
      "[10]\ttrain-error:0.002302\tvalidation-error:0.002283\n",
      "[11]\ttrain-error:0.002302\tvalidation-error:0.002283\n",
      "[12]\ttrain-error:0.002302\tvalidation-error:0.002285\n",
      "[13]\ttrain-error:0.002302\tvalidation-error:0.002285\n",
      "[14]\ttrain-error:0.002302\tvalidation-error:0.002285\n",
      "[15]\ttrain-error:0.002302\tvalidation-error:0.002285\n",
      "[16]\ttrain-error:0.002302\tvalidation-error:0.002285\n",
      "[17]\ttrain-error:0.002302\tvalidation-error:0.002285\n",
      "[18]\ttrain-error:0.002302\tvalidation-error:0.002285\n",
      "[19]\ttrain-error:0.002302\tvalidation-error:0.002285\n"
     ]
    }
   ],
   "source": [
    "model = xgb.train(param, dtrain, num_round, verbose_eval=True, \n",
    "                  evals=[(dtrain, \"train\"), (dvalidation, \"validation\")])"
   ]
  },
  {
   "cell_type": "code",
   "execution_count": 11,
   "metadata": {
    "collapsed": true
   },
   "outputs": [],
   "source": [
    "y_pred = model.predict(dtest)"
   ]
  },
  {
   "cell_type": "code",
   "execution_count": 12,
   "metadata": {
    "collapsed": true
   },
   "outputs": [],
   "source": [
    "THRESHOLD = 0.5\n",
    "y_pred_classes = y_pred > THRESHOLD"
   ]
  },
  {
   "cell_type": "code",
   "execution_count": 13,
   "metadata": {},
   "outputs": [
    {
     "name": "stdout",
     "output_type": "stream",
     "text": [
      "Confusion matrix, without normalization\n",
      "[[783225   2215]\n",
      " [    16 194144]]\n"
     ]
    },
    {
     "data": {
      "image/png": "[encoded data removed]",
      "text/plain": [
       "<matplotlib.figure.Figure at 0x7f21cf729850>"
      ]
     },
     "metadata": {},
     "output_type": "display_data"
    }
   ],
   "source": [
    "cnf_matrix = confusion_matrix(y_test.values, y_pred_classes)\n",
    "plot_confusion_matrix(cnf_matrix, classes=[0,1], \n",
    "                      title='Confusion matrix, without normalization')"
   ]
  },
  {
   "cell_type": "code",
   "execution_count": 14,
   "metadata": {},
   "outputs": [
    {
     "name": "stdout",
     "output_type": "stream",
     "text": [
      "Accuracy: 0.997722539812\n"
     ]
    }
   ],
   "source": [
    "stats(y_true=y_test, y_pred=y_pred_classes)"
   ]
  }
 ],
 "metadata": {
  "kernelspec": {
   "display_name": "Python 2",
   "language": "python",
   "name": "python2"
  },
  "language_info": {
   "codemirror_mode": {
    "name": "ipython",
    "version": 2
   },
   "file_extension": ".py",
   "mimetype": "text/x-python",
   "name": "python",
   "nbconvert_exporter": "python",
   "pygments_lexer": "ipython2",
   "version": "2.7.14"
  }
 },
 "nbformat": 4,
 "nbformat_minor": 2
}
