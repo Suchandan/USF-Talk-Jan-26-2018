{
 "cells": [
  {
   "cell_type": "markdown",
   "metadata": {},
   "source": [
    "# Imports"
   ]
  },
  {
   "cell_type": "code",
   "execution_count": 1,
   "metadata": {
    "collapsed": true
   },
   "outputs": [],
   "source": [
    "import sys\n",
    "import io\n",
    "\n",
    "import itertools\n",
    "import numpy as np\n",
    "import matplotlib.pyplot as plt\n",
    "\n",
    "import pandas as pd\n",
    "import numpy as np\n",
    "\n",
    "import xgboost as xgb\n",
    "from sklearn.metrics import confusion_matrix, accuracy_score\n",
    "\n",
    "from sklearn.model_selection import StratifiedShuffleSplit"
   ]
  },
  {
   "cell_type": "markdown",
   "metadata": {},
   "source": [
    "# Helper functions"
   ]
  },
  {
   "cell_type": "code",
   "execution_count": 2,
   "metadata": {
    "collapsed": true
   },
   "outputs": [],
   "source": [
    "def stats(y_true, y_pred):\n",
    "    \n",
    "    accuracy = accuracy_score(y_true=y_true, y_pred=y_pred)\n",
    "    \n",
    "    print (\"Accuracy: {}\".format(accuracy))\n",
    "\n",
    "def plot_confusion_matrix(cm, classes,\n",
    "                          normalize=False,\n",
    "                          title='Confusion matrix',\n",
    "                          cmap=plt.cm.Blues):\n",
    "    \"\"\"\n",
    "    This function prints and plots the confusion matrix.\n",
    "    Normalization can be applied by setting `normalize=True`.\n",
    "    \n",
    "    See: http://scikit-learn.org/stable/auto_examples/model_selection/plot_confusion_matrix.html\n",
    "    \"\"\"\n",
    "    \n",
    "    plt.figure(figsize=(20,10))\n",
    "    \n",
    "    if normalize:\n",
    "        cm = cm.astype('float') / cm.sum(axis=1)[:, np.newaxis]\n",
    "        print(\"Normalized confusion matrix\")\n",
    "    else:\n",
    "        print('Confusion matrix, without normalization')\n",
    "\n",
    "    print(cm)\n",
    "\n",
    "    plt.imshow(cm, interpolation='nearest', cmap=cmap)\n",
    "    plt.title(title)\n",
    "    plt.colorbar()\n",
    "    tick_marks = np.arange(len(classes))\n",
    "    plt.xticks(tick_marks, classes, rotation=45)\n",
    "    plt.yticks(tick_marks, classes)\n",
    "\n",
    "    fmt = '.2f' if normalize else 'd'\n",
    "    thresh = cm.max() / 2.\n",
    "    for i, j in itertools.product(range(cm.shape[0]), range(cm.shape[1])):\n",
    "        plt.text(j, i, format(cm[i, j], fmt),\n",
    "                 horizontalalignment=\"center\",\n",
    "                 color=\"white\" if cm[i, j] > thresh else \"black\")\n",
    "\n",
    "    plt.tight_layout()\n",
    "    plt.ylabel('True label')\n",
    "    plt.xlabel('Predicted label')\n",
    "    \n",
    "    plt.show()"
   ]
  },
  {
   "cell_type": "markdown",
   "metadata": {},
   "source": [
    "# Read Data"
   ]
  },
  {
   "cell_type": "code",
   "execution_count": 3,
   "metadata": {},
   "outputs": [],
   "source": [
    "X_train = pd.read_csv(\"./data/train/X_train.txt\", sep=r\"\\s*\", header=None, engine='python')\n",
    "y_train = pd.read_csv(\"./data/train/y_train.txt\", sep=r\"\\s*\", header=None, engine='python')\n",
    "\n",
    "X_test = pd.read_csv(\"./data/test/X_test.txt\", sep=r\"\\s*\", header=None, engine='python')\n",
    "y_test = pd.read_csv(\"./data/test/y_test.txt\", sep=r\"\\s*\", header=None, engine='python')\n",
    "\n",
    "#Modify labels to be in [0, 12)\n",
    "y_train = y_train - 1\n",
    "y_test = y_test - 1"
   ]
  },
  {
   "cell_type": "markdown",
   "metadata": {},
   "source": [
    "## Preform stratified split"
   ]
  },
  {
   "cell_type": "code",
   "execution_count": 4,
   "metadata": {
    "collapsed": true
   },
   "outputs": [],
   "source": [
    "sss = StratifiedShuffleSplit(test_size=.1, n_splits=1)\n",
    "train_indices, validation_indices = sss.split(X_train, y_train).next()\n",
    "\n",
    "X_validation = X_train.loc[validation_indices]\n",
    "y_validation = y_train.loc[validation_indices]\n",
    "\n",
    "X_train = X_train.loc[train_indices]\n",
    "y_train = y_train.loc[train_indices]"
   ]
  },
  {
   "cell_type": "code",
   "execution_count": 5,
   "metadata": {},
   "outputs": [
    {
     "name": "stdout",
     "output_type": "stream",
     "text": [
      "Training size: 6616, Validation Size: 736, Test size: 2947\n"
     ]
    }
   ],
   "source": [
    "print \"Training size: {}, Validation Size: {}, Test size: {}\".format(len(y_train), len(y_validation), len(y_test))"
   ]
  },
  {
   "cell_type": "markdown",
   "metadata": {},
   "source": [
    "# Read Activity Labels"
   ]
  },
  {
   "cell_type": "code",
   "execution_count": 7,
   "metadata": {},
   "outputs": [],
   "source": [
    "if sys.version_info[0] < 3: \n",
    "    from StringIO import StringIO\n",
    "else:\n",
    "    from io import StringIO\n",
    "\n",
    "activity_labels = u\"\"\n",
    "\n",
    "with open('./data/activity_labels.txt') as f:\n",
    "    for line in f:\n",
    "        activity_labels += line.strip() + \"\\n\"\n",
    "\n",
    "activity_labels = io.StringIO(activity_labels)\n",
    "activity_labels = pd.read_csv(activity_labels, sep=\" \", header=None, names=[\"id\",\"name\"])\n",
    "activity_labels.loc[:,['id']] = activity_labels['id'] -1 "
   ]
  },
  {
   "cell_type": "markdown",
   "metadata": {},
   "source": [
    "# Random Forest Classifier"
   ]
  },
  {
   "cell_type": "code",
   "execution_count": 8,
   "metadata": {
    "collapsed": true
   },
   "outputs": [],
   "source": [
    "dtrain = xgb.DMatrix(data=X_train, label=y_train)\n",
    "dvalidation = xgb.DMatrix(data=X_validation, label=y_validation)\n",
    "dtest = xgb.DMatrix(data=X_test, label=y_test)"
   ]
  },
  {
   "cell_type": "code",
   "execution_count": 9,
   "metadata": {
    "collapsed": true
   },
   "outputs": [],
   "source": [
    "param = {'eta':0.3, 'silent':False, 'objective':'multi:softmax', 'num_class': 12}\n",
    "num_round = 20"
   ]
  },
  {
   "cell_type": "code",
   "execution_count": 10,
   "metadata": {},
   "outputs": [
    {
     "name": "stdout",
     "output_type": "stream",
     "text": [
      "[0]\ttrain-merror:0.027207\tvalidation-merror:0.061141\n",
      "[1]\ttrain-merror:0.017684\tvalidation-merror:0.052989\n",
      "[2]\ttrain-merror:0.013906\tvalidation-merror:0.047554\n",
      "[3]\ttrain-merror:0.011941\tvalidation-merror:0.046196\n",
      "[4]\ttrain-merror:0.00786\tvalidation-merror:0.035326\n",
      "[5]\ttrain-merror:0.005441\tvalidation-merror:0.035326\n",
      "[6]\ttrain-merror:0.004081\tvalidation-merror:0.03125\n",
      "[7]\ttrain-merror:0.002721\tvalidation-merror:0.025815\n",
      "[8]\ttrain-merror:0.001965\tvalidation-merror:0.023098\n",
      "[9]\ttrain-merror:0.00136\tvalidation-merror:0.02038\n",
      "[10]\ttrain-merror:0.00136\tvalidation-merror:0.021739\n",
      "[11]\ttrain-merror:0.000756\tvalidation-merror:0.021739\n",
      "[12]\ttrain-merror:0.000453\tvalidation-merror:0.017663\n",
      "[13]\ttrain-merror:0.000302\tvalidation-merror:0.017663\n",
      "[14]\ttrain-merror:0.000151\tvalidation-merror:0.017663\n",
      "[15]\ttrain-merror:0\tvalidation-merror:0.017663\n",
      "[16]\ttrain-merror:0\tvalidation-merror:0.017663\n",
      "[17]\ttrain-merror:0\tvalidation-merror:0.017663\n",
      "[18]\ttrain-merror:0\tvalidation-merror:0.017663\n",
      "[19]\ttrain-merror:0\tvalidation-merror:0.016304\n"
     ]
    }
   ],
   "source": [
    "model = xgb.train(param, dtrain, num_round, verbose_eval=True, \n",
    "                  evals=[(dtrain, \"train\"), (dvalidation, \"validation\")])"
   ]
  },
  {
   "cell_type": "code",
   "execution_count": 11,
   "metadata": {
    "collapsed": true
   },
   "outputs": [],
   "source": [
    "y_pred = model.predict(dtest)"
   ]
  },
  {
   "cell_type": "code",
   "execution_count": 12,
   "metadata": {},
   "outputs": [
    {
     "name": "stdout",
     "output_type": "stream",
     "text": [
      "Confusion matrix, without normalization\n",
      "[[484   3   9   0   0   0]\n",
      " [ 48 417   6   0   0   0]\n",
      " [  5  34 381   0   0   0]\n",
      " [  0   1   0 402  88   0]\n",
      " [  0   0   0  41 491   0]\n",
      " [  0   0   0   0   0 537]]\n"
     ]
    },
    {
     "data": {
      "image/png": "[encoded data removed]",
      "text/plain": [
       "<matplotlib.figure.Figure at 0x7f3de5bbbe90>"
      ]
     },
     "metadata": {},
     "output_type": "display_data"
    }
   ],
   "source": [
    "cnf_matrix = confusion_matrix(y_test, y_pred)\n",
    "plot_confusion_matrix(cnf_matrix, classes=activity_labels.name.values, \n",
    "                      title='Confusion matrix, without normalization')"
   ]
  },
  {
   "cell_type": "code",
   "execution_count": 13,
   "metadata": {},
   "outputs": [
    {
     "name": "stdout",
     "output_type": "stream",
     "text": [
      "Accuracy: 0.920257889379\n"
     ]
    }
   ],
   "source": [
    "stats(y_true=y_test, y_pred=y_pred)"
   ]
  },
  {
   "cell_type": "code",
   "execution_count": null,
   "metadata": {
    "collapsed": true
   },
   "outputs": [],
   "source": []
  }
 ],
 "metadata": {
  "kernelspec": {
   "display_name": "Python 2",
   "language": "python",
   "name": "python2"
  },
  "language_info": {
   "codemirror_mode": {
    "name": "ipython",
    "version": 2
   },
   "file_extension": ".py",
   "mimetype": "text/x-python",
   "name": "python",
   "nbconvert_exporter": "python",
   "pygments_lexer": "ipython2",
   "version": "2.7.14"
  }
 },
 "nbformat": 4,
 "nbformat_minor": 2
}
